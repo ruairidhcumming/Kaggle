{
 "cells": [
  {
   "cell_type": "markdown",
   "metadata": {},
   "source": [
    "moscow property kaggle chalenge\n",
    "Ruairidh Cumming\n",
    "30/10/2018"
   ]
  },
  {
   "cell_type": "code",
   "execution_count": 79,
   "metadata": {},
   "outputs": [],
   "source": [
    "#import statements \n",
    "import pandas as pd\n",
    "import numpy as np\n",
    "from sklearn.ensemble import RandomForestRegressor\n",
    "from sklearn import preprocessing\n",
    "from sklearn.model_selection import train_test_split\n",
    "from math import sqrt\n",
    "import statistics as st\n",
    "import matplotlib.pyplot as plt\n",
    "%matplotlib inline\n"
   ]
  },
  {
   "cell_type": "code",
   "execution_count": 2,
   "metadata": {},
   "outputs": [],
   "source": [
    "#load data\n",
    "train = pd.read_csv('C:\\\\Users\\\\ruair\\\\Documents\\\\GitHub\\\\Kaggle\\\\Moscow Property/train.csv')\n",
    "tst =pd.read_csv('C:\\\\Users\\\\ruair\\\\Documents\\\\GitHub\\\\Kaggle\\\\Moscow Property/test.csv')\n"
   ]
  },
  {
   "cell_type": "code",
   "execution_count": null,
   "metadata": {},
   "outputs": [],
   "source": []
  },
  {
   "cell_type": "code",
   "execution_count": 4,
   "metadata": {},
   "outputs": [],
   "source": [
    "#process training set \n",
    "X=train.drop(['SalePrice'], axis = 1)\n",
    "X[X.columns.values[X.dtypes == 'object' ]]=X[X.columns.values[X.dtypes == 'object' ]].fillna('none')\n",
    "y=train['SalePrice']\n",
    "\n",
    "#process test set (same as X)\n",
    "tst[tst.columns.values[tst.dtypes == 'object' ]]=tst[tst.columns.values[tst.dtypes == 'object' ]].fillna('none')\n"
   ]
  },
  {
   "cell_type": "code",
   "execution_count": 85,
   "metadata": {},
   "outputs": [
    {
     "name": "stderr",
     "output_type": "stream",
     "text": [
      "[Parallel(n_jobs=1)]: Done 1000 out of 1000 | elapsed:    2.8s finished\n"
     ]
    },
    {
     "data": {
      "text/plain": [
       "RandomForestRegressor(bootstrap=True, criterion='mse', max_depth=2,\n",
       "           max_features='auto', max_leaf_nodes=None,\n",
       "           min_impurity_decrease=0.0, min_impurity_split=None,\n",
       "           min_samples_leaf=1, min_samples_split=2,\n",
       "           min_weight_fraction_leaf=0.0, n_estimators=1000, n_jobs=1,\n",
       "           oob_score=False, random_state=0, verbose=True, warm_start=False)"
      ]
     },
     "execution_count": 85,
     "metadata": {},
     "output_type": "execute_result"
    }
   ],
   "source": [
    "#assign skl elements \n",
    "reg1 = RandomForestRegressor(max_depth = 2, random_state = 0, n_estimators =1000, verbose = True)\n",
    "le= preprocessing.LabelEncoder()\n",
    "#label encode dataframes \n",
    "Xenc = X.apply(le.fit_transform)\n",
    "tstenc = tst.apply(le.fit_transform)\n",
    "#create subsample for accuract testing\n",
    "Xtrain,Xtst,Ytrain,Ytst = train_test_split(Xenc,y,test_size = 0.2, random_state = 42)\n",
    "reg1.fit(Xtrain,Ytrain)"
   ]
  },
  {
   "cell_type": "code",
   "execution_count": 86,
   "metadata": {},
   "outputs": [
    {
     "name": "stderr",
     "output_type": "stream",
     "text": [
      "[Parallel(n_jobs=1)]: Done 1000 out of 1000 | elapsed:    0.0s finished\n",
      "C:\\Program Files (x86)\\Microsoft Visual Studio\\Shared\\Anaconda3_64\\lib\\site-packages\\ipykernel_launcher.py:2: SettingWithCopyWarning: \n",
      "A value is trying to be set on a copy of a slice from a DataFrame.\n",
      "Try using .loc[row_indexer,col_indexer] = value instead\n",
      "\n",
      "See the caveats in the documentation: http://pandas.pydata.org/pandas-docs/stable/indexing.html#indexing-view-versus-copy\n",
      "  \n",
      "C:\\Program Files (x86)\\Microsoft Visual Studio\\Shared\\Anaconda3_64\\lib\\site-packages\\ipykernel_launcher.py:3: SettingWithCopyWarning: \n",
      "A value is trying to be set on a copy of a slice from a DataFrame.\n",
      "Try using .loc[row_indexer,col_indexer] = value instead\n",
      "\n",
      "See the caveats in the documentation: http://pandas.pydata.org/pandas-docs/stable/indexing.html#indexing-view-versus-copy\n",
      "  This is separate from the ipykernel package so we can avoid doing imports until\n",
      "C:\\Program Files (x86)\\Microsoft Visual Studio\\Shared\\Anaconda3_64\\lib\\site-packages\\ipykernel_launcher.py:4: SettingWithCopyWarning: \n",
      "A value is trying to be set on a copy of a slice from a DataFrame.\n",
      "Try using .loc[row_indexer,col_indexer] = value instead\n",
      "\n",
      "See the caveats in the documentation: http://pandas.pydata.org/pandas-docs/stable/indexing.html#indexing-view-versus-copy\n",
      "  after removing the cwd from sys.path.\n",
      "C:\\Program Files (x86)\\Microsoft Visual Studio\\Shared\\Anaconda3_64\\lib\\site-packages\\ipykernel_launcher.py:5: SettingWithCopyWarning: \n",
      "A value is trying to be set on a copy of a slice from a DataFrame.\n",
      "Try using .loc[row_indexer,col_indexer] = value instead\n",
      "\n",
      "See the caveats in the documentation: http://pandas.pydata.org/pandas-docs/stable/indexing.html#indexing-view-versus-copy\n",
      "  \"\"\"\n"
     ]
    }
   ],
   "source": [
    "Ans =reg1.predict(Xtst)\n",
    "Xtst['Ans']=Ans\n",
    "Xtst['SalePrice']=Ytst\n",
    "Xtst['err']=(Xtst.SalePrice-Xtst.Ans)/Xtst.SalePrice\n",
    "Xtst['AbsErr']=Xtst.SalePrice-Xtst.Ans\n"
   ]
  },
  {
   "cell_type": "code",
   "execution_count": 76,
   "metadata": {},
   "outputs": [
    {
     "data": {
      "text/plain": [
       "-2.782105251824804"
      ]
     },
     "execution_count": 76,
     "metadata": {},
     "output_type": "execute_result"
    }
   ],
   "source": [
    "min(Xtst.err)"
   ]
  },
  {
   "cell_type": "code",
   "execution_count": 77,
   "metadata": {},
   "outputs": [
    {
     "data": {
      "text/plain": [
       "(array([  1.,   1.,   0.,   0.,   2.,   6.,  12.,  46., 164.,  60.]),\n",
       " array([-2.78210525, -2.46016169, -2.13821812, -1.81627456, -1.49433099,\n",
       "        -1.17238742, -0.85044386, -0.52850029, -0.20655673,  0.11538684,\n",
       "         0.4373304 ]),\n",
       " <a list of 10 Patch objects>)"
      ]
     },
     "execution_count": 77,
     "metadata": {},
     "output_type": "execute_result"
    },
    {
     "data": {
      "image/png": "[encoded data removed]",
      "text/plain": [
       "<Figure size 432x288 with 1 Axes>"
      ]
     },
     "metadata": {},
     "output_type": "display_data"
    }
   ],
   "source": [
    "plt.hist(Xtst.err)"
   ]
  },
  {
   "cell_type": "code",
   "execution_count": 87,
   "metadata": {},
   "outputs": [
    {
     "data": {
      "text/plain": [
       "Text(0.5,1,'Zoneing')"
      ]
     },
     "execution_count": 87,
     "metadata": {},
     "output_type": "execute_result"
    },
    {
     "data": {
      "image/png": "[encoded data removed]",
      "text/plain": [
       "<Figure size 432x288 with 1 Axes>"
      ]
     },
     "metadata": {},
     "output_type": "display_data"
    }
   ],
   "source": [
    "plt.scatter(Xtst.AbsErr,Xtst.SalePrice, c = Xtst.MSZoning)\n",
    "plt.title('Zoneing')\n"
   ]
  },
  {
   "cell_type": "code",
   "execution_count": 93,
   "metadata": {},
   "outputs": [
    {
     "data": {
      "text/plain": [
       "Text(0.5,1,'Zoneing')"
      ]
     },
     "execution_count": 93,
     "metadata": {},
     "output_type": "execute_result"
    },
    {
     "data": {
      "image/png": "[encoded data removed]",
      "text/plain": [
       "<Figure size 432x288 with 1 Axes>"
      ]
     },
     "metadata": {},
     "output_type": "display_data"
    }
   ],
   "source": [
    "plt.scatter(Xtst.AbsErr,Xtst.LotArea, c = Xtst.Fence)\n",
    "plt.title('Zoneing')\n"
   ]
  },
  {
   "cell_type": "code",
   "execution_count": 94,
   "metadata": {},
   "outputs": [
    {
     "data": {
      "text/plain": [
       "<bound method DataFrame.corr of         Id  MSSubClass  MSZoning  LotFrontage  LotArea  Street  Alley  \\\n",
       "892    892           0         3           41      324       1      2   \n",
       "1105  1105           5         3           69      804       1      2   \n",
       "413    413           1         4           27      402       1      0   \n",
       "522    522           4         4           21       95       1      2   \n",
       "1036  1036           0         3           60      848       1      2   \n",
       "614    614          13         4            0        2       1      2   \n",
       "218    218           4         3          245      967       1      2   \n",
       "1160  1160          12         3            1       20       1      2   \n",
       "649    649          13         4            0       10       1      2   \n",
       "887    887           4         3           30      983       1      2   \n",
       "576    576           4         3           23      147       1      2   \n",
       "1252  1252           0         3           33      526       1      2   \n",
       "1061  1061           1         0           88     1010       0      2   \n",
       "567    567           0         3           41      563       1      2   \n",
       "1108  1108           5         3          207      282       1      2   \n",
       "1113  1113           0         3           37      395       1      2   \n",
       "168    168           5         3           33      305       1      2   \n",
       "1102  1102           0         3           41      181       1      2   \n",
       "1120  1120           1         4           30      309       1      2   \n",
       "67      67           0         3           43      634       1      2   \n",
       "1040  1040           0         3           59      862       1      2   \n",
       "453    453           5         1           46      409       1      2   \n",
       "670    670           5         3           35      351       1      2   \n",
       "1094  1094           0         3           45      131       1      2   \n",
       "192    192           0         3           39      410       1      2   \n",
       "123    123          11         3           26      265       1      2   \n",
       "415    415           0         3           44      392       1      2   \n",
       "277    277           0         3           98     1016       1      2   \n",
       "433    433           5         3           71      653       1      2   \n",
       "1317  1317          11         1           18       71       1      1   \n",
       "...    ...         ...       ...          ...      ...     ...    ...   \n",
       "233    233           0         3           46      629       1      2   \n",
       "426    426           8         3          126      844       1      2   \n",
       "196    196           0         3           50      468       1      2   \n",
       "1226  1226           5         3           57      938       1      2   \n",
       "81      81          11         4            3       84       1      2   \n",
       "1368  1368          11         4          171       81       1      2   \n",
       "1125  1125           0         3           31      601       1      2   \n",
       "111    111           8         3          307      249       1      2   \n",
       "1243  1243           0         3           78      908       1      2   \n",
       "744    744          11         3           12      112       1      2   \n",
       "937    937           5         3           46      504       1      2   \n",
       "344    344          12         4            7       29       1      2   \n",
       "1232  1232          10         3           41      523       1      2   \n",
       "865    865           0         3          233      366       1      2   \n",
       "1088  1088          12         4            1       26       1      2   \n",
       "350    350          11         3           39      256       1      2   \n",
       "588    588           0         3           36     1042       1      2   \n",
       "1427  1427           4         3           31      664       1      0   \n",
       "948    948           5         3           36      911       1      2   \n",
       "1449  1449          13         4            0        4       1      2   \n",
       "989    989           5         1           36      292       1      2   \n",
       "677    677           1         3           23      413       1      2   \n",
       "478    478           0         3           50      628       1      2   \n",
       "1271  1271           0         3          322      431       1      2   \n",
       "1410  1410           5         3           50      819       1      2   \n",
       "479    479           1         4           21      134       1      2   \n",
       "1361  1361           0         3           91      976       1      2   \n",
       "802    802           5         3           34      301       1      2   \n",
       "651    651           6         3           31      420       1      2   \n",
       "722    722           0         3           41      289       1      2   \n",
       "\n",
       "      LotShape  LandContour  Utilities      ...        MiscFeature  MiscVal  \\\n",
       "892          3            3          0      ...                  4        0   \n",
       "1105         0            3          0      ...                  4        0   \n",
       "413          3            3          0      ...                  4        0   \n",
       "522          3            3          0      ...                  4        0   \n",
       "1036         0            1          0      ...                  4        0   \n",
       "614          3            3          0      ...                  4        0   \n",
       "218          0            3          0      ...                  4        0   \n",
       "1160         3            3          0      ...                  4        0   \n",
       "649          3            3          0      ...                  4        0   \n",
       "887          0            3          0      ...                  4        0   \n",
       "576          3            3          0      ...                  4        0   \n",
       "1252         3            3          0      ...                  2        8   \n",
       "1061         3            2          0      ...                  2        7   \n",
       "567          0            3          0      ...                  4        0   \n",
       "1108         3            3          0      ...                  4        0   \n",
       "1113         3            3          0      ...                  4        0   \n",
       "168          0            3          0      ...                  4        0   \n",
       "1102         3            3          0      ...                  4        0   \n",
       "1120         3            0          0      ...                  4        0   \n",
       "67           0            3          0      ...                  4        0   \n",
       "1040         3            3          0      ...                  4        0   \n",
       "453          3            3          0      ...                  4        0   \n",
       "670          3            3          0      ...                  4        0   \n",
       "1094         3            3          0      ...                  4        0   \n",
       "192          0            3          0      ...                  4        0   \n",
       "123          3            3          0      ...                  4        0   \n",
       "415          0            3          0      ...                  4        0   \n",
       "277          3            3          0      ...                  4        0   \n",
       "433          0            3          0      ...                  4        0   \n",
       "1317         3            3          0      ...                  4        0   \n",
       "...        ...          ...        ...      ...                ...      ...   \n",
       "233          3            3          0      ...                  4        0   \n",
       "426          3            2          0      ...                  4        0   \n",
       "196          3            3          0      ...                  4        0   \n",
       "1226         0            3          0      ...                  4        0   \n",
       "81           3            3          0      ...                  4        0   \n",
       "1368         3            3          0      ...                  4        0   \n",
       "1125         3            3          0      ...                  4        0   \n",
       "111          0            3          0      ...                  4        0   \n",
       "1243         3            3          0      ...                  4        0   \n",
       "744          0            1          0      ...                  4        0   \n",
       "937          3            3          0      ...                  4        0   \n",
       "344          3            3          0      ...                  4        0   \n",
       "1232         3            3          0      ...                  4        0   \n",
       "865          0            3          0      ...                  4        0   \n",
       "1088         3            3          0      ...                  4        0   \n",
       "350          0            3          0      ...                  4        0   \n",
       "588          0            2          0      ...                  4        0   \n",
       "1427         3            0          0      ...                  4        0   \n",
       "948          0            3          0      ...                  4        0   \n",
       "1449         3            3          0      ...                  4        0   \n",
       "989          3            3          0      ...                  4        0   \n",
       "677          3            3          0      ...                  4        0   \n",
       "478          3            3          0      ...                  4        0   \n",
       "1271         0            3          0      ...                  4        0   \n",
       "1410         3            3          0      ...                  4        0   \n",
       "479          3            0          0      ...                  4        0   \n",
       "1361         0            2          0      ...                  4        0   \n",
       "802          3            3          0      ...                  4        0   \n",
       "651          3            3          0      ...                  4        0   \n",
       "722          3            3          0      ...                  4        0   \n",
       "\n",
       "      MoSold  YrSold  SaleType  SaleCondition            Ans  SalePrice  \\\n",
       "892        1       0         8              4  141155.983562     154500   \n",
       "1105       3       4         8              4  289506.040685     325000   \n",
       "413        2       4         8              4  134204.003268     115000   \n",
       "522        9       0         8              4  169695.536849     159000   \n",
       "1036       8       3         8              4  304899.562090     315500   \n",
       "614        4       4         8              4  133549.918547      75500   \n",
       "218        4       2         8              4  195337.460770     311500   \n",
       "1160       6       4         8              4  160929.576964     146000   \n",
       "649       11       1         8              4  133549.918547      84500   \n",
       "887        3       2         8              4  137049.631186     135500   \n",
       "576        7       3         8              4  194597.230693     145000   \n",
       "1252      10       3         8              4  133902.505027     130000   \n",
       "1061       7       2         3              4  134475.661334      81000   \n",
       "567        2       4         8              4  198558.882843     214000   \n",
       "1108      10       1         8              0  170106.314968     181000   \n",
       "1113       4       1         8              4  133549.918547     134500   \n",
       "168        4       1         8              4  198558.882843     183500   \n",
       "1102       3       1         8              3  133902.505027     135000   \n",
       "1120       4       1         8              4  140884.325496     118400   \n",
       "67         5       1         8              4  195618.358937     226000   \n",
       "1040       0       0         8              4  162794.644794     155000   \n",
       "453        5       3         8              4  272182.559926     210000   \n",
       "670        1       3         8              4  164666.726699     173500   \n",
       "1094       4       4         8              4  133902.505027     129000   \n",
       "192        8       3         8              4  191337.904322     192000   \n",
       "123        2       2         8              4  144676.484849     153900   \n",
       "415        7       1         6              5  178477.393453     181134   \n",
       "277        5       4         8              4  134123.074854     141000   \n",
       "433        6       2         8              4  170106.314968     181000   \n",
       "1317       3       1         6              5  179231.365245     208900   \n",
       "...      ...     ...       ...            ...            ...        ...   \n",
       "233        1       4         8              4  133549.918547     128200   \n",
       "426        7       3         8              4  199289.190204     275000   \n",
       "196        8       1         6              5  205867.669005     311872   \n",
       "1226       0       2         8              4  170106.314968     214000   \n",
       "81         2       0         8              4  145121.206993     153500   \n",
       "1368       5       3         8              4  141787.331507     144000   \n",
       "1125      10       3         8              4  134204.003268     115000   \n",
       "111        3       4         8              4  190302.359548     180000   \n",
       "1243       8       0         6              5  340858.537286     465000   \n",
       "744        9       2         8              4  270970.892363     180000   \n",
       "937        1       3         8              4  199786.003368     253000   \n",
       "344        3       4         8              4  133549.918547      85000   \n",
       "1232       2       1         8              4  137204.861532     101800   \n",
       "865        7       3         8              4  134123.074854     148500   \n",
       "1088       3       0         8              4  198284.805750     137500   \n",
       "350       11       1         6              5  316843.931858     318061   \n",
       "588        5       3         8              5  152634.706596     143000   \n",
       "1427       3       2         8              4  158979.748667     140000   \n",
       "948        1       0         8              4  198558.882843     192500   \n",
       "1449       7       0         8              0  133549.918547      92000   \n",
       "989        7       0         6              5  198558.882843     197000   \n",
       "677        4       3         8              4  133549.918547     109500   \n",
       "478        8       3         8              4  296514.862966     297000   \n",
       "1271       7       3         8              4  168871.821833     185750   \n",
       "1410       5       3         8              4  198558.882843     230000   \n",
       "479        2       1         8              2  134123.074854      89471   \n",
       "1361       5       3         8              4  199986.693356     260000   \n",
       "802        9       2         8              4  190592.897239     189000   \n",
       "651        9       3         8              4  158979.748667     108000   \n",
       "722        6       3         8              4  134123.074854     124500   \n",
       "\n",
       "           err         AbsErr  \n",
       "892   0.086369   13344.016438  \n",
       "1105  0.109212   35493.959315  \n",
       "413  -0.166991  -19204.003268  \n",
       "522  -0.067268  -10695.536849  \n",
       "1036  0.033599   10600.437910  \n",
       "614  -0.768873  -58049.918547  \n",
       "218   0.372913  116162.539230  \n",
       "1160 -0.102257  -14929.576964  \n",
       "649  -0.580472  -49049.918547  \n",
       "887  -0.011436   -1549.631186  \n",
       "576  -0.342050  -49597.230693  \n",
       "1252 -0.030019   -3902.505027  \n",
       "1061 -0.660193  -53475.661334  \n",
       "567   0.072155   15441.117157  \n",
       "1108  0.060186   10893.685032  \n",
       "1113  0.007064     950.081453  \n",
       "168  -0.082065  -15058.882843  \n",
       "1102  0.008130    1097.494973  \n",
       "1120 -0.189901  -22484.325496  \n",
       "67    0.134432   30381.641063  \n",
       "1040 -0.050288   -7794.644794  \n",
       "453  -0.296107  -62182.559926  \n",
       "670   0.050912    8833.273301  \n",
       "1094 -0.038004   -4902.505027  \n",
       "192   0.003448     662.095678  \n",
       "123   0.059932    9223.515151  \n",
       "415   0.014667    2656.606547  \n",
       "277   0.048773    6876.925146  \n",
       "433   0.060186   10893.685032  \n",
       "1317  0.142023   29668.634755  \n",
       "...        ...            ...  \n",
       "233  -0.041731   -5349.918547  \n",
       "426   0.275312   75710.809796  \n",
       "196   0.339897  106004.330995  \n",
       "1226  0.205111   43893.685032  \n",
       "81    0.054585    8378.793007  \n",
       "1368  0.015366    2212.668493  \n",
       "1125 -0.166991  -19204.003268  \n",
       "111  -0.057235  -10302.359548  \n",
       "1243  0.266971  124141.462714  \n",
       "744  -0.505394  -90970.892363  \n",
       "937   0.210332   53213.996632  \n",
       "344  -0.571176  -48549.918547  \n",
       "1232 -0.347788  -35404.861532  \n",
       "865   0.096814   14376.925146  \n",
       "1088 -0.442071  -60784.805750  \n",
       "350   0.003827    1217.068142  \n",
       "588  -0.067376   -9634.706596  \n",
       "1427 -0.135570  -18979.748667  \n",
       "948  -0.031475   -6058.882843  \n",
       "1449 -0.451630  -41549.918547  \n",
       "989  -0.007913   -1558.882843  \n",
       "677  -0.219634  -24049.918547  \n",
       "478   0.001633     485.137034  \n",
       "1271  0.090865   16878.178167  \n",
       "1410  0.136701   31441.117157  \n",
       "479  -0.499068  -44652.074854  \n",
       "1361  0.230820   60013.306644  \n",
       "802  -0.008428   -1592.897239  \n",
       "651  -0.472035  -50979.748667  \n",
       "722  -0.077294   -9623.074854  \n",
       "\n",
       "[292 rows x 84 columns]>"
      ]
     },
     "execution_count": 94,
     "metadata": {},
     "output_type": "execute_result"
    }
   ],
   "source": [
    "Xtst.corr"
   ]
  },
  {
   "cell_type": "code",
   "execution_count": null,
   "metadata": {},
   "outputs": [],
   "source": []
  }
 ],
 "metadata": {
  "kernelspec": {
   "display_name": "Python 3",
   "language": "python",
   "name": "python3"
  },
  "language_info": {
   "codemirror_mode": {
    "name": "ipython",
    "version": 3
   },
   "file_extension": ".py",
   "mimetype": "text/x-python",
   "name": "python",
   "nbconvert_exporter": "python",
   "pygments_lexer": "ipython3",
   "version": "3.6.5"
  }
 },
 "nbformat": 4,
 "nbformat_minor": 2
}
