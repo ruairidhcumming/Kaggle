{
 "cells": [
  {
   "cell_type": "markdown",
   "metadata": {},
   "source": [
    "moscow property kaggle chalenge\n",
    "Ruairidh Cumming\n",
    "30/10/2018"
   ]
  },
  {
   "cell_type": "code",
   "execution_count": 42,
   "metadata": {},
   "outputs": [],
   "source": [
    "#import statements \n",
    "import pandas as pd\n",
    "import numpy as np\n",
    "from sklearn.ensemble import RandomForestRegressor\n",
    "from sklearn import preprocessing\n",
    "\n"
   ]
  },
  {
   "cell_type": "code",
   "execution_count": 51,
   "metadata": {},
   "outputs": [],
   "source": [
    "#load data\n",
    "train = pd.read_csv('C:\\\\Users\\\\ruair\\\\Documents\\\\GitHub\\\\Kaggle\\\\Moscow Property/train.csv')\n",
    "tst =pd.read_csv('C:\\\\Users\\\\ruair\\\\Documents\\\\GitHub\\\\Kaggle\\\\Moscow Property/test.csv')\n"
   ]
  },
  {
   "cell_type": "code",
   "execution_count": 54,
   "metadata": {},
   "outputs": [
    {
     "data": {
      "text/plain": [
       "Id                int64\n",
       "MSSubClass        int64\n",
       "MSZoning         object\n",
       "LotFrontage      object\n",
       "LotArea           int64\n",
       "Street           object\n",
       "Alley            object\n",
       "LotShape         object\n",
       "LandContour      object\n",
       "Utilities        object\n",
       "LotConfig        object\n",
       "LandSlope        object\n",
       "Neighborhood     object\n",
       "Condition1       object\n",
       "Condition2       object\n",
       "BldgType         object\n",
       "HouseStyle       object\n",
       "OverallQual       int64\n",
       "OverallCond       int64\n",
       "YearBuilt         int64\n",
       "YearRemodAdd      int64\n",
       "RoofStyle        object\n",
       "RoofMatl         object\n",
       "Exterior1st      object\n",
       "Exterior2nd      object\n",
       "MasVnrType       object\n",
       "MasVnrArea       object\n",
       "ExterQual        object\n",
       "ExterCond        object\n",
       "Foundation       object\n",
       "                  ...  \n",
       "HalfBath          int64\n",
       "BedroomAbvGr      int64\n",
       "KitchenAbvGr      int64\n",
       "KitchenQual      object\n",
       "TotRmsAbvGrd      int64\n",
       "Functional       object\n",
       "Fireplaces        int64\n",
       "FireplaceQu      object\n",
       "GarageType       object\n",
       "GarageYrBlt      object\n",
       "GarageFinish     object\n",
       "GarageCars        int64\n",
       "GarageArea        int64\n",
       "GarageQual       object\n",
       "GarageCond       object\n",
       "PavedDrive       object\n",
       "WoodDeckSF        int64\n",
       "OpenPorchSF       int64\n",
       "EnclosedPorch     int64\n",
       "3SsnPorch         int64\n",
       "ScreenPorch       int64\n",
       "PoolArea          int64\n",
       "PoolQC           object\n",
       "Fence            object\n",
       "MiscFeature      object\n",
       "MiscVal           int64\n",
       "MoSold            int64\n",
       "YrSold            int64\n",
       "SaleType         object\n",
       "SaleCondition    object\n",
       "Length: 80, dtype: object"
      ]
     },
     "execution_count": 54,
     "metadata": {},
     "output_type": "execute_result"
    }
   ],
   "source": [
    "X.dtypes"
   ]
  },
  {
   "cell_type": "code",
   "execution_count": 68,
   "metadata": {},
   "outputs": [],
   "source": [
    "X=train.drop(['SalePrice'], axis = 1)\n",
    "X[X.columns.values[X.dtypes == 'object' ]]=X[X.columns.values[X.dtypes == 'object' ]].fillna('none')\n",
    "y=train['SalePrice']\n",
    "Xtst = tst\n",
    "Xtst[Xtst.columns.values[Xtst.dtypes == 'object' ]]=Xtst[Xtst.columns.values[Xtst.dtypes == 'object' ]].fillna('none')\n"
   ]
  },
  {
   "cell_type": "code",
   "execution_count": 69,
   "metadata": {},
   "outputs": [],
   "source": [
    "#assign skl elements \n",
    "reg1 = RandomForestRegressor(max_depth = 2, random_state = 0, n_estimators =100, verbose = True)\n",
    "le= preprocessing.LabelEncoder()\n",
    "\n",
    "#label encode dataframes \n",
    "Xenc = X.apply(le.fit_transform)\n",
    "Xtstenc = Xtst.apply(le.fit_transform)"
   ]
  },
  {
   "cell_type": "code",
   "execution_count": 71,
   "metadata": {},
   "outputs": [
    {
     "name": "stderr",
     "output_type": "stream",
     "text": [
      "[Parallel(n_jobs=1)]: Done 100 out of 100 | elapsed:    0.8s finished\n"
     ]
    },
    {
     "data": {
      "text/plain": [
       "RandomForestRegressor(bootstrap=True, criterion='mse', max_depth=2,\n",
       "           max_features='auto', max_leaf_nodes=None,\n",
       "           min_impurity_decrease=0.0, min_impurity_split=None,\n",
       "           min_samples_leaf=1, min_samples_split=2,\n",
       "           min_weight_fraction_leaf=0.0, n_estimators=100, n_jobs=1,\n",
       "           oob_score=False, random_state=0, verbose=True, warm_start=False)"
      ]
     },
     "execution_count": 71,
     "metadata": {},
     "output_type": "execute_result"
    }
   ],
   "source": [
    "reg1.fit(Xenc,y)"
   ]
  },
  {
   "cell_type": "code",
   "execution_count": 73,
   "metadata": {},
   "outputs": [
    {
     "name": "stderr",
     "output_type": "stream",
     "text": [
      "[Parallel(n_jobs=1)]: Done 100 out of 100 | elapsed:    0.0s finished\n"
     ]
    },
    {
     "data": {
      "text/plain": [
       "array([133699.69760242, 139831.5373532 , 151419.34601365, ...,\n",
       "       135650.18632291, 133699.69760242, 211449.10083723])"
      ]
     },
     "execution_count": 73,
     "metadata": {},
     "output_type": "execute_result"
    }
   ],
   "source": [
    "reg1.predict(Xtstenc)"
   ]
  },
  {
   "cell_type": "code",
   "execution_count": null,
   "metadata": {},
   "outputs": [],
   "source": []
  }
 ],
 "metadata": {
  "kernelspec": {
   "display_name": "Python 3",
   "language": "python",
   "name": "python3"
  },
  "language_info": {
   "codemirror_mode": {
    "name": "ipython",
    "version": 3
   },
   "file_extension": ".py",
   "mimetype": "text/x-python",
   "name": "python",
   "nbconvert_exporter": "python",
   "pygments_lexer": "ipython3",
   "version": "3.6.5"
  }
 },
 "nbformat": 4,
 "nbformat_minor": 2
}
